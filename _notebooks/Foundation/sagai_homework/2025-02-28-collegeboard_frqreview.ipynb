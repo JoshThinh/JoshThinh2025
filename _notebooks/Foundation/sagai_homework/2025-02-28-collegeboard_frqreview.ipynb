{
 "cells": [
  {
   "cell_type": "raw",
   "metadata": {
    "vscode": {
     "languageId": "raw"
    }
   },
   "source": [
    "---\n",
    "layout: post\n",
    "title: FRQ Review\n",
    "description: Anytime in Sprint 1 is time to show accomplishments to teacher. The last week of the Spring there will be a formal live review meeting.\n",
    "categories: [Collegeboard]\n",
    "permalink: /collegeboard/frq\n",
    "type: collab\n",
    "comments: true\n",
    "---"
   ]
  },
  {
   "cell_type": "markdown",
   "metadata": {},
   "source": [
    "## FRQ Review\n"
   ]
  },
  {
   "cell_type": "markdown",
   "metadata": {},
   "source": [
    "## This is a test"
   ]
  }
 ],
 "metadata": {
  "language_info": {
   "name": "python"
  },
  "orig_nbformat": 4
 },
 "nbformat": 4,
 "nbformat_minor": 2
}
