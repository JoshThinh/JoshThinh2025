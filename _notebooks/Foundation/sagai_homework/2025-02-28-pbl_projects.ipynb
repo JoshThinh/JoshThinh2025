{
 "cells": [
  {
   "cell_type": "raw",
   "metadata": {
    "vscode": {
     "languageId": "raw"
    }
   },
   "source": [
    "---\n",
    "layout: post\n",
    "title: Other Projects\n",
    "description: Anytime in Sprint 1 is time to show accomplishments to teacher. The last week of the Spring there will be a formal live review meeting.\n",
    "categories: [Pbl]\n",
    "permalink: /pbl/projects\n",
    "type: collab\n",
    "comments: true\n",
    "---"
   ]
  },
  {
   "cell_type": "markdown",
   "metadata": {},
   "source": [
    "## Other Projects\n"
   ]
  },
  {
   "cell_type": "markdown",
   "metadata": {},
   "source": [
    "## This is a test"
   ]
  }
 ],
 "metadata": {
  "language_info": {
   "name": "python"
  },
  "orig_nbformat": 4
 },
 "nbformat": 4,
 "nbformat_minor": 2
}
