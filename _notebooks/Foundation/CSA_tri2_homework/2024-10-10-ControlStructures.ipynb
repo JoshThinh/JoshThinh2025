{
 "cells": [
  {
   "cell_type": "raw",
   "metadata": {
    "vscode": {
     "languageId": "raw"
    }
   },
   "source": [
    "---\n",
    "layout: post\n",
    "title: Control Structure\n",
    "description: By Josh\n",
    "menu: nav/CSA_Units/CSA_tri2/tri2_recursive.html\n",
    "courses: {'csa': {'week': 5}}\n",
    "toc: true\n",
    "comments: true\n",
    "permalink: /csa/ControlStructure/\n",
    "---"
   ]
  },
  {
   "cell_type": "code",
   "execution_count": null,
   "metadata": {},
   "outputs": [
    {
     "ename": "CompilationException",
     "evalue": "",
     "output_type": "error",
     "traceback": [
      "\u001b[1m\u001b[30m|   \u001b[1m\u001b[30m    private \u001b[0m\u001b[1m\u001b[30m\u001b[41mLevel\u001b[0m\u001b[1m\u001b[30m levelOne;\u001b[0m",
      "\u001b[1m\u001b[31mcannot find symbol\u001b[0m",
      "\u001b[1m\u001b[31m  symbol:   class Level\u001b[0m",
      "",
      "\u001b[1m\u001b[30m|   \u001b[1m\u001b[30m    private \u001b[0m\u001b[1m\u001b[30m\u001b[41mLevel\u001b[0m\u001b[1m\u001b[30m levelTwo;\u001b[0m",
      "\u001b[1m\u001b[31mcannot find symbol\u001b[0m",
      "\u001b[1m\u001b[31m  symbol:   class Level\u001b[0m",
      "",
      "\u001b[1m\u001b[30m|   \u001b[1m\u001b[30m    private \u001b[0m\u001b[1m\u001b[30m\u001b[41mLevel\u001b[0m\u001b[1m\u001b[30m levelThree;\u001b[0m",
      "\u001b[1m\u001b[31mcannot find symbol\u001b[0m",
      "\u001b[1m\u001b[31m  symbol:   class Level\u001b[0m",
      "",
      "\u001b[1m\u001b[30m|   \u001b[1m\u001b[30m        maxScore = \u001b[0m\u001b[1m\u001b[30m\u001b[41mtotatScore\u001b[0m\u001b[1m\u001b[30m;\u001b[0m",
      "\u001b[1m\u001b[31mcannot find symbol\u001b[0m",
      "\u001b[1m\u001b[31m  symbol:   variable totatScore\u001b[0m",
      "",
      "\u001b[1m\u001b[30m|   \u001b[1m\u001b[30m\u001b[0m\u001b[1m\u001b[30m\u001b[41m{ /* implementation not shown */ }\u001b[0m\u001b[1m\u001b[30m\u001b[0m",
      "\u001b[1m\u001b[31mmissing return statement\u001b[0m",
      ""
     ]
    }
   ],
   "source": [
    "public class Game\n",
    "{\n",
    "    private Level levelOne;\n",
    "    private Level levelTwo;\n",
    "    private Level levelThree;\n",
    "\n",
    "    /** Postcondition: All instance variables have been initialized. */\n",
    "    public Game ()\n",
    "    { /* implementation not shown */ }\n",
    "\n",
    "    /** Returns true if this game is a bonus game and returns false otherwise */\n",
    "    public boolean isBonus ()\n",
    "{ /* implementation not shown */ }\n",
    "    /** Simulates the play of this Game (consisting of three levels) and updates all relevant game data\n",
    "    **/\n",
    "public void play ()\n",
    "{/* implementation not shown */ }\n",
    "\n",
    "/** Returns the score earned in the most recently played game, as described in part (a) */\n",
    "public int getScore() {\n",
    "    int totalScore = 0;\n",
    "    if (levelOne.goalReached()){\n",
    "        totalScore += levelOne.getPoints();\n",
    "    }\n",
    "    if (levelTwo.goalReached() && levelOne.goalReached()){\n",
    "        totalScore += levelTwo.getPoints();\n",
    "    }\n",
    "    if (levelThree.goalReached() && levelTwo.goalReached() && levelOne.goalReached()){\n",
    "        totalScore += levelThree.getPoints();\n",
    "    }\n",
    "    if (isBonus()){\n",
    "        totalScore *= 3;\n",
    "    }\n",
    "    return totalScore;\n",
    "}\n",
    "/* to be implemented in part (a) */\n",
    "\n",
    "/** Simulates the play of num games and returns the highest score earned, as described in part(b) Precondition: num > 0\n",
    "**/\n",
    "public int playManyTimes (int num)\n",
    "{/* to be implemented in part (b) */ \n",
    "int maxScore = 0;\n",
    "for (int i = 0; i < num; i++){\n",
    "    play();\n",
    "    int totalScore = getScore();\n",
    "    if(totalScore > maxScore){\n",
    "        maxScore = totatScore;\n",
    "    }\n",
    "}\n",
    "return maxScore;\n",
    "}\n",
    "\n",
    "/* There may be instance variables, constructors, and methods that are not shown. */\n",
    "\n",
    "}"
   ]
  }
 ],
 "metadata": {
  "kernelspec": {
   "display_name": "Java",
   "language": "java",
   "name": "java"
  },
  "language_info": {
   "codemirror_mode": "java",
   "file_extension": ".jshell",
   "mimetype": "text/x-java-source",
   "name": "java",
   "pygments_lexer": "java",
   "version": "17.0.13+11-Ubuntu-2ubuntu122.04"
  }
 },
 "nbformat": 4,
 "nbformat_minor": 2
}
