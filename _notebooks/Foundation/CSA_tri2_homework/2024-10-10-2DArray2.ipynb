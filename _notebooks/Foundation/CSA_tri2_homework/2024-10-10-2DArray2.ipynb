{
 "cells": [
  {
   "cell_type": "raw",
   "metadata": {
    "vscode": {
     "languageId": "raw"
    }
   },
   "source": [
    "---\n",
    "layout: post\n",
    "title: 2DArray2\n",
    "description: By Josh\n",
    "menu: nav/CSA_Units/CSA_tri2/2DArray2.html\n",
    "courses: {'csa': {'week': 5}}\n",
    "toc: true\n",
    "comments: true\n",
    "permalink: /csa/2DArray2/\n",
    "---"
   ]
  },
  {
   "cell_type": "markdown",
   "metadata": {},
   "source": [
    "## My attempt"
   ]
  },
  {
   "cell_type": "code",
   "execution_count": null,
   "metadata": {
    "vscode": {
     "languageId": "java"
    }
   },
   "outputs": [],
   "source": [
    "// part A\n",
    "public void repopulate() {\n",
    "    for (int row = 0; row < grid.length; row++) {\n",
    "        for (int col = 0; col < grid[0].length; col++) {\n",
    "            // Generate a random value between 1 and MAX.\n",
    "            int value = (Math.random() * MAX) + 1;\n",
    "            // make sure that the value is dvisible by 10 nd not divisble by 100 and if not then the if statement will check this and generate a new value.\n",
    "            if (value % 10 != 0 || value % 100 == 0) {\n",
    "                value = (Math.random() * MAX) + 1;\n",
    "            }\n",
    "        }\n",
    "    }\n",
    "}\n",
    "\n",
    "// part B\n",
    "public int countIncreasingCols() {\n",
    "    int count = 0; \n",
    "    for (int col = 0; col < grid[0].length; col++) {\n",
    "        boolean order = true; \n",
    "        for (int row = 1; row < grid.length; row++) {\n",
    "            // idk what to do here\n",
    "            if (grid[row][col] < grid[row][col]) { \n",
    "                order = false; \n",
    "                // Set order to false if not increasing.\n",
    "            }\n",
    "        }\n",
    "        // If the column is in increasing order, increment the count.\n",
    "        if (order) {\n",
    "            count++;\n",
    "        }\n",
    "    }\n",
    "    // Return the count of columns with increasing order.\n",
    "    return count;\n",
    "}\n"
   ]
  },
  {
   "cell_type": "markdown",
   "metadata": {},
   "source": [
    "## Correction"
   ]
  },
  {
   "cell_type": "code",
   "execution_count": null,
   "metadata": {
    "vscode": {
     "languageId": "java"
    }
   },
   "outputs": [],
   "source": [
    "// part A\n",
    "public void repopulate() {\n",
    "    for (int row = 0; row < grid.length; row++) {\n",
    "        for (int col = 0; col < grid[0].length; col++) {\n",
    "            int value = (Math.random() * MAX) + 1;\n",
    "            if (value % 10 != 0 || value % 100 == 0) {\n",
    "                value = (Math.random() * MAX) + 1;\n",
    "            }\n",
    "            // Forgot to update the value\n",
    "            grid[row][col] = value;\n",
    "        }\n",
    "    }\n",
    "}\n",
    "\n",
    "// part B\n",
    "public int countIncreasingCols() {\n",
    "    int count = 0; \n",
    "    for (int col = 0; col < grid[0].length; col++) {\n",
    "        boolean order = true; \n",
    "        for (int row = 1; row < grid.length; row++) {\n",
    "            // the if statement should have the first grid be less than the other grid with the row - 1 to check the previous value.\n",
    "            if (grid[row][col] < grid[row - 1][col]) { \n",
    "                order = false; \n",
    "            }\n",
    "        }\n",
    "        if (order) {\n",
    "            count++;\n",
    "        }\n",
    "    }\n",
    "    return count;\n",
    "}\n"
   ]
  }
 ],
 "metadata": {
  "language_info": {
   "name": "python"
  }
 },
 "nbformat": 4,
 "nbformat_minor": 2
}
