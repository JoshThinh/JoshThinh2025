{
 "cells": [
  {
   "cell_type": "raw",
   "metadata": {
    "vscode": {
     "languageId": "raw"
    }
   },
   "source": [
    "---\n",
    "layout: post\n",
    "title: 2DArray1\n",
    "description: By Josh\n",
    "menu: nav/CSA_Units/CSA_tri2/2DArray1.html\n",
    "courses: {'csa': {'week': 5}}\n",
    "toc: true\n",
    "comments: true\n",
    "permalink: /csa/2DArray1/\n",
    "---"
   ]
  },
  {
   "cell_type": "markdown",
   "metadata": {},
   "source": [
    "## My attempt"
   ]
  },
  {
   "cell_type": "code",
   "execution_count": null,
   "metadata": {
    "vscode": {
     "languageId": "java"
    }
   },
   "outputs": [],
   "source": [
    "// part A\n",
    "public static boolean isNonZeroRow(int[][] array2D, int r) {\n",
    "    // Loop through each column in the specified row r.\n",
    "    for (int col = 0; col < array2D[r].length; col++) {\n",
    "        // Check if the current element is zero.\n",
    "        if (array2D[r][col] == 0) {\n",
    "            return false; \n",
    "        // Return false if any element in the row is zero.\n",
    "        } \n",
    "    }\n",
    "    // If no zero is found, return true (the row is non-zero).\n",
    "    return true;\n",
    "}\n",
    "// Part B\n",
    "public static int[][] resize(int[][] array2D) {\n",
    "    int rows = array2D.length;\n",
    "    int cols = array2D[0].length;\n",
    "    // initialize a new 2D array\n",
    "    int [][] results = new int(nonZeroRow[][]);\n",
    "    // Counter to track the number of non-zero rows found.\n",
    "    int numberOfRows = 0;\n",
    "    // Loop through each row in the original 2D array.\n",
    "    for (int r = 0; r , rows; r++) {\n",
    "        // Check if the current row is non-zero.\n",
    "        if (isNonZeroRow(array2D, r)) {\n",
    "            // If the row is non-zero, loop through each column in the row.\n",
    "            for (int column = 0; column < cols; column++) {\n",
    "                // idk what im doing here\n",
    "                result[numberofRows = array2D];\n",
    "            }\n",
    "            // Increment the number of non-zero rows counter.\n",
    "            numberOfRows++\n",
    "        }\n",
    "    }\n",
    "    return result;\n",
    "}\n"
   ]
  },
  {
   "cell_type": "markdown",
   "metadata": {},
   "source": [
    "## Corrections"
   ]
  },
  {
   "cell_type": "code",
   "execution_count": null,
   "metadata": {
    "vscode": {
     "languageId": "java"
    }
   },
   "outputs": [],
   "source": [
    "// part A\n",
    "public static boolean isNonZeroRow(int[][] array2D, int r) {\n",
    "    // Loop through each column in the specified row of 0 instead of r.\n",
    "    for (int col = 0; col < array2D[0].length; col++) {\n",
    "        if (array2D[r][col] == 0) {\n",
    "            return false; \n",
    "        } \n",
    "    }\n",
    "    return true;\n",
    "}\n",
    "// Part B\n",
    "public static int[][] resize(int[][] array2D) {\n",
    "    int rows = array2D.length;\n",
    "    int cols = array2D[0].length;\n",
    "    // initialize a new 2D array that should have nonZeroRow of array2D and the cols instead of nothing.\n",
    "    int [][] results = new int[nonZeroRow(array2D)][cols];\n",
    "    // Counter to track the number of non-zero rows found.\n",
    "    int numberOfRows = 0;\n",
    "    // the for loop should have less then instead of comma, this was a mistype and I should be more attentive when writing code in the future.\n",
    "    for (int r = 0; r < rows; r++) {\n",
    "        // Check if the current row is non-zero.\n",
    "        if (isNonZeroRow(array2D, r)) {\n",
    "            // If the row is non-zero, loop through each column in the row.\n",
    "            for (int column = 0; column < cols; column++) {\n",
    "                // result should update number of rows column with the array2D of whatever is in [r][column]\n",
    "                result(numberOfRows[column] = array2D[r][column])\n",
    "            }\n",
    "            // Increment the number of non-zero rows counter.\n",
    "            numberOfRows++\n",
    "        }\n",
    "    }\n",
    "    return result;\n",
    "}"
   ]
  }
 ],
 "metadata": {
  "language_info": {
   "name": "python"
  }
 },
 "nbformat": 4,
 "nbformat_minor": 2
}
