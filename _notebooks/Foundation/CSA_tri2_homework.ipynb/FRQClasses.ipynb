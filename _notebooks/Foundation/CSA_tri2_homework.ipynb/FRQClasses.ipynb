{
 "cells": [
  {
   "cell_type": "markdown",
   "metadata": {},
   "source": []
  },
  {
   "cell_type": "markdown",
   "metadata": {},
   "source": [
    "## My work:"
   ]
  },
  {
   "cell_type": "code",
   "execution_count": null,
   "metadata": {
    "vscode": {
     "languageId": "java"
    }
   },
   "outputs": [],
   "source": [
    "public class CombinedTable {\n",
    "    private SingleTable table1;\n",
    "    private SingleTable table2;\n",
    "    public CombinedTable(SingleTable t1, SingleTable t2) {\n",
    "        table1 = t1;\n",
    "        table2 = t2;\n",
    "    }\n",
    "    public boolean canSeat(int seat) {\n",
    "        if (t1.getNumSeats() + t2.getNumSeats() >= seat) {\n",
    "            return true;\n",
    "        } else {\n",
    "            return false;\n",
    "        }\n",
    "    }\n",
    "\n",
    "public double getDesirability() {\n",
    "    if (t1.getHeight() == t2.getHeight()) {\n",
    "        return (t1.getViewQuality() + t2.getViewQuality());\n",
    "    } else {\n",
    "        return ((t1.getViewQuality() + t2.getViewQuality())) - 10;\n",
    "    }\n",
    "}\n",
    "}\n"
   ]
  },
  {
   "cell_type": "markdown",
   "metadata": {},
   "source": [
    "## Checked code:\n",
    "- had trouble getting the correct value for the correct sum of tables and did not get the correct value for the combined tables that are not the same height."
   ]
  },
  {
   "cell_type": "code",
   "execution_count": null,
   "metadata": {
    "vscode": {
     "languageId": "java"
    }
   },
   "outputs": [],
   "source": [
    "public class CombinedTable {\n",
    "    private SingleTable table1;\n",
    "    private SingleTable table2;\n",
    "    public CombinedTable(SingleTable t1, SingleTable t2) {\n",
    "        table1 = t1;\n",
    "        table2 = t2;\n",
    "    }\n",
    "    public boolean canSeat(int seat) {\n",
    "        if (t1.getNumSeats() + t2.getNumSeats() >= seat) {\n",
    "            // did not include a subtract 2 to get the correct sum of seats for the two tables\n",
    "            return true;\n",
    "        } else {\n",
    "            return false;\n",
    "        }\n",
    "    }\n",
    "\n",
    "    public double getDesirability() {\n",
    "        if (t1.getHeight() == t2.getHeight()) {\n",
    "            return (t1.getViewQuality() + t2.getViewQuality());\n",
    "     } else {\n",
    "            return ((t1.getViewQuality() + t2.getViewQuality())) - 10;\n",
    "            // Both return statements did not divide by 2 to get the correct value of combined tables that are not the same height.\n",
    "        }\n",
    "    }\n",
    "}\n"
   ]
  },
  {
   "cell_type": "markdown",
   "metadata": {},
   "source": [
    "## FRQ 2023"
   ]
  },
  {
   "cell_type": "code",
   "execution_count": null,
   "metadata": {
    "vscode": {
     "languageId": "java"
    }
   },
   "outputs": [],
   "source": [
    "public class Sign {\n",
    "    private String message;\n",
    "    private int width;\n",
    "    public Sign(String m, int w){\n",
    "        message = m;\n",
    "        width = w;\n",
    "    }\n",
    "    public int lines(){\n",
    "        int len = message.length();\n",
    "        if (len == 0) {\n",
    "            return len;\n",
    "        } else {\n",
    "            return len + 1;\n",
    "        }\n",
    "    }\n",
    "    public String getLines(){\n",
    "        int neededLines = lines();\n",
    "        if (neededLines == 0){\n",
    "            return null;\n",
    "        }\n",
    "        String signLines = ;\n",
    "        for (int i = 1; i < neededLines; i++){\n",
    "            signLines += message.substring();\n",
    "        }\n",
    "        return signLines + message.substring();\n",
    "    }\n",
    "}"
   ]
  },
  {
   "cell_type": "markdown",
   "metadata": {},
   "source": [
    "## Corrected code\n",
    "- struggled with applying logic"
   ]
  },
  {
   "cell_type": "code",
   "execution_count": null,
   "metadata": {
    "vscode": {
     "languageId": "java"
    }
   },
   "outputs": [],
   "source": [
    "public class Sign {\n",
    "    private String message;\n",
    "    private int width;\n",
    "    public Sign(String m, int w){\n",
    "        message = m;\n",
    "        width = w;\n",
    "    }\n",
    "    public int lines(){\n",
    "        int len = message.length();\n",
    "        if (len == 0) {\n",
    "            // Had no idea what to put here where len % width == 0 is the correct code.\n",
    "            return len;\n",
    "            // Need to divide by width because of the if statement above.\n",
    "        } else {\n",
    "            return len + 1;\n",
    "            // need to divide by width again while also adding 1.\n",
    "        }\n",
    "    }\n",
    "    public String getLines(){\n",
    "        int neededLines = lines();\n",
    "        if (neededLines == 0){\n",
    "            return null;\n",
    "        }\n",
    "        String signLines = \"\";\n",
    "        // need quotation marks for blank space\n",
    "        for (int i = 1; i < neededLines; i++){\n",
    "            signLines += message.substring();\n",
    "        // unsure what to do within the substring() where the correct answer is substring((i-1)*width, i * width) + \";\";\n",
    "        }\n",
    "        return signLines + message.substring();\n",
    "        //needed to put ((neededlines - 1) * width); inside substring\n",
    "    }\n",
    "}"
   ]
  }
 ],
 "metadata": {
  "language_info": {
   "name": "python"
  }
 },
 "nbformat": 4,
 "nbformat_minor": 2
}
