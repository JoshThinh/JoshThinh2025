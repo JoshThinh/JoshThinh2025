{
 "cells": [
  {
   "cell_type": "raw",
   "metadata": {
    "vscode": {
     "languageId": "raw"
    }
   },
   "source": [
    "---\n",
    "layout: post\n",
    "title: recursive homework\n",
    "description: By Josh\n",
    "menu: nav/CSA_Units/CSA_tri2/tri2_recursive.html\n",
    "courses: {'csa': {'week': 5}}\n",
    "toc: true\n",
    "comments: true\n",
    "permalink: /csa/recursive/\n",
    "---"
   ]
  },
  {
   "cell_type": "code",
   "execution_count": null,
   "metadata": {
    "vscode": {
     "languageId": "java"
    }
   },
   "outputs": [
    {
     "name": "stdout",
     "output_type": "stream",
     "text": [
      "Number of ways to climb 4 steps: 5\n"
     ]
    }
   ],
   "source": [
    "// Part A\n",
    "\n",
    "public class Main {\n",
    "    public static void main(String[] args) {\n",
    "        // Call the countWays function and print the result for n = 4\n",
    "        int result = countWays(4);\n",
    "        System.out.println(\"Number of ways to climb 4 steps: \" + result);\n",
    "    }\n",
    "    public static int countWays(int n) {\n",
    "        // Base Case: If n == 0, there is exactly one way to stay where you are.\n",
    "        if (n == 0) {\n",
    "            return 1;\n",
    "        }\n",
    "\n",
    "        // Base Case: If n < 0, there are no valid ways to climb.\n",
    "        if (n < 0) {\n",
    "            return 0;\n",
    "        }\n",
    "\n",
    "        // Recursive Case: Combine the ways to climb from n-1 and n-2 steps.\n",
    "        return countWays(n - 1) + countWays(n - 2);\n",
    "    }\n",
    "}\n",
    "\n",
    "Main.main(null)"
   ]
  },
  {
   "cell_type": "markdown",
   "metadata": {},
   "source": [
    "## Part B\n",
    "\n",
    "- starts with countWays(3)\n",
    "meaning n = 3\n",
    "countWays(3) = countWays(2) + countWays(1)\n",
    "\n",
    "- Then it will evaluate countWays(2)\n",
    "meaning n = 2\n",
    "countWays(2) = countWays(1) + countWays(0)\n",
    "\n",
    "- It will then evaluate countWays(1)\n",
    "meaning n = 1\n",
    "countWays(1) = countWays(0) + countWays(-1)\n",
    "\n",
    "- Base cases will then be evaluated for both countWays(0) and countWays(-1)\n",
    "countWays(0) will return a base case of 1\n",
    "countWays(-1) will return a base case of 0\n",
    "When substituting it back it would be:\n",
    "countWays(1) = 1+0 = 1\n",
    "\n",
    "- Then it will go back to countWays(0) for countWays(2)\n",
    "the base case for countWays(0) would be 1\n",
    "Then substitute it back in:\n",
    "countWays(2) = 1+1=2\n",
    "\n",
    "- Then we will evaluate countWays(1) for countWays(3)\n",
    "countWays(1) would be 1\n",
    "when substituting it back in:\n",
    "countWays(3) = 2 + 1 = 3\n",
    "\n",
    "- In total there will be 7 recursive calls\n",
    "\n",
    "- Here is a Visual of the explanation: <br>\n",
    "countWays(3) <br>\n",
    "   -> countWays(2) + countWays(1) <br>\n",
    "       -> (countWays(1) + countWays(0)) + (countWays(0) + countWays(-1)) <br>\n",
    "           -> (1 + 0) + 1 <br>\n",
    "   -> 2 + 1 <br>\n",
    " = 3\n",
    "\n"
   ]
  },
  {
   "cell_type": "code",
   "execution_count": 17,
   "metadata": {
    "vscode": {
     "languageId": "java"
    }
   },
   "outputs": [
    {
     "name": "stdout",
     "output_type": "stream",
     "text": [
      "Number of ways to climb 5 steps: 5\n"
     ]
    }
   ],
   "source": [
    "class Main {\n",
    "    public static void main(String[] args) {\n",
    "        // Example input\n",
    "        int[] steps = {1, 3, 5};\n",
    "        int result = countWaysVariableSteps(5, steps);\n",
    "        System.out.println(\"Number of ways to climb 5 steps: \" + result);\n",
    "    }\n",
    "    public static int countWaysVariableSteps(int n, int[] steps) {\n",
    "        // Base Case: If n == 0, there is exactly one way to stay where you are.\n",
    "        if (n == 0) {\n",
    "            return 1;\n",
    "        }\n",
    "        // Base Case: If n < 0, there are no valid ways to climb.\n",
    "        if (n < 0) {\n",
    "            return 0;\n",
    "        }\n",
    "\n",
    "        // Recursive Case: Sum the ways to climb using each step size.\n",
    "        int totalWays = 0;\n",
    "        for (int step : steps) {\n",
    "            totalWays += countWaysVariableSteps(n - step, steps);\n",
    "        }\n",
    "\n",
    "        return totalWays;\n",
    "    }\n",
    "}\n",
    "Main.main(null)"
   ]
  },
  {
   "cell_type": "markdown",
   "metadata": {},
   "source": [
    "## MCQ:\n",
    "\n",
    "- Question 1 <br>\n",
    "D\n",
    "\n",
    "- Question 2 <br>\n",
    "A\n",
    "\n",
    "- Question 3 <br>\n",
    "B"
   ]
  }
 ],
 "metadata": {
  "kernelspec": {
   "display_name": "Java",
   "language": "java",
   "name": "java"
  },
  "language_info": {
   "codemirror_mode": "java",
   "file_extension": ".jshell",
   "mimetype": "text/x-java-source",
   "name": "Java",
   "pygments_lexer": "java",
   "version": "17.0.13+11-Ubuntu-2ubuntu122.04"
  }
 },
 "nbformat": 4,
 "nbformat_minor": 2
}
