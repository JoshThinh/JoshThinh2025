{
 "cells": [
  {
   "cell_type": "raw",
   "metadata": {
    "vscode": {
     "languageId": "raw"
    }
   },
   "source": [
    "---\n",
    "layout: post\n",
    "title: Review\n",
    "description: Josh\n",
    "menu: nav/CSA_Units/csa_livereview.html\n",
    "courses: {'csa': {'week': 7}}\n",
    "toc: true\n",
    "comments: true\n",
    "type: ccc\n",
    "permalink: /csa/bloglivereview/\n",
    "---"
   ]
  },
  {
   "cell_type": "markdown",
   "metadata": {},
   "source": [
    "## Review of Project:\n",
    "- Part of the SAGAI studenttoolkit\n",
    "![image.png](/JoshThinh2025/images/livereview1.png)"
   ]
  },
  {
   "cell_type": "markdown",
   "metadata": {},
   "source": [
    "- Here My project is a qna for the grading system where people can type in some of their questions about homework or questions in general and other students can answer."
   ]
  },
  {
   "cell_type": "markdown",
   "metadata": {},
   "source": [
    "## Interaction with other:\n",
    "- During last live review, was told that features looked good relating to what was asked for.\n",
    "- Discussion with Sharon on what to work on and was given the suggestion to include a delete function for questions along with the comments\n",
    "- Worked with david during weekend at Panera bread to help fix errors and discuss what ways to improve our project."
   ]
  },
  {
   "cell_type": "markdown",
   "metadata": {},
   "source": [
    "## What Was Added\n",
    "- Created a delete function for questions <br>\n",
    "[Link to commit](https://github.com/CSA-Coders-2025/CSA_Combined_Frontend_Fork/commit/1fa117801b213f2782c92041025d78886fa3ff40)\n",
    "### Frontend Code\n",
    "![image.png](/JoshThinh2025/images/livereview3.png)\n",
    "### Backend Code\n",
    "![image-2.png](/JoshThinh2025/images/livereview4.png)\n",
    "- fixed bug with deleting comments.\n",
    "\n",
    "## Bugs That I Came Across\n",
    "- Could not figure out how to fix delete function for both the comments and questions because of something in the SecurityConfig file in backend.\n",
    "![image-4.png](/JoshThinh2025/images/livereview5.png)"
   ]
  }
 ],
 "metadata": {
  "language_info": {
   "name": "python"
  }
 },
 "nbformat": 4,
 "nbformat_minor": 2
}
