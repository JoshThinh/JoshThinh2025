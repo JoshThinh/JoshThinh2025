{
 "cells": [
  {
   "cell_type": "raw",
   "metadata": {
    "vscode": {
     "languageId": "raw"
    }
   },
   "source": [
    "---\n",
    "layout: post\n",
    "title: Sprint 2\n",
    "description: Josh\n",
    "menu: nav/CSA_Units/personallearning.html\n",
    "courses: {'csa': {'week': 7}}\n",
    "toc: true\n",
    "comments: true\n",
    "type: ccc\n",
    "permalink: /csa/sprint2/\n",
    "---"
   ]
  },
  {
   "cell_type": "markdown",
   "metadata": {},
   "source": [
    "| **Assignment**             | **Points**    | **Grade** | **Evidence** |\n",
    "|----------------------------|---------------|-----------|--------------|\n",
    "| Pull Request (Integration) | 2             |     1.65      |    We should have did a pull request sooner with a more detailed plan  ![Screenshot 2024-10-09 181811](https://github.com/user-attachments/assets/b5e6d12d-b0e9-4601-8ffb-4d2db4bbc114)      |\n",
    "| Relevancy Checklist (Peer) | 2             |     1.8      |      ![Screenshot 2024-10-10 223722](https://github.com/user-attachments/assets/af3d51f1-bb18-48d9-8bca-688ca2916d37)        |\n",
    "| Lesson (Group)             | 1             |     0.91     |      ![Screenshot 2024-10-09 181803](https://github.com/user-attachments/assets/3f7682e3-9fb3-49cd-828b-a1d33ec27435)        |\n",
    "| Homework, Popcorn Hacks    | 1 x 8         |     7.11      |   ![Screenshot 2024-10-10 115934](https://github.com/user-attachments/assets/a69ae1da-1dbd-47af-935d-d26c338c2a15)     |\n",
    "| Individual Contribution    | 1             |     0.91      |     [https://github.com/Th35py27/TDJN_2025/commits/main/?author=JoshThinh](https://github.com/Th35py27/TDJN_2025/commits/main/?author=JoshThinh)    Contributed to most of the lesson on 8.2.     |\n",
    "| Personal Notebooks / Blogs | 1             |     0.87      |    All lessons are on blogs page but could be organized better. Created a game that includes key aspects of every unit. [Treasure Hunt Game](https://joshthinh.github.io/JoshThinh2025/csa/personallearning/)        |\n",
    "| Total                      | 12            |    13.25       |              |\n",
    "\n",
    "\n",
    "| **Skill**                  | **Points**    | **Grade** | **Evidence** |\n",
    "|----------------------------|---------------|-----------|--------------|\n",
    "| Work Habits (Analytics)    |   1           |    0.87       |     ![Screenshot 2024-10-09 124149](https://github.com/user-attachments/assets/54933f61-96f2-410a-b155-91d736646309) I Had a decent amount of commits but I could have continued enhancing my page and added more features that displayed/enhanced my learning of java.       |\n",
    "| Team Planning (Issue)      |   1           |     0.9      |      [team planning](https://github.com/Th35py27/2D_Array/issues/1)    Was able to coordinate a plan and worked well with my team.    |\n",
    "| Presentation Memories      |   1           |     0.9      |  Working with David Lee at Panera editing our presentation and practicing what to say.    |\n",
    "| Grading and Feedback       |   1           |    0.89       |     Something that I could have done within grading is to input the grading scale and put more in-depth detail on why they received that grade.  ![Screenshot 2024-10-09 181756](https://github.com/user-attachments/assets/eed0df5c-6d36-4a63-9569-f6513fd9390d)   [Grading Sheet](https://docs.google.com/spreadsheets/d/11c5QW6TBrz41cK4xrJqBkT5pT2QUsfUK5YVOnb5Nq7s/edit?gid=1877743079#gid=1877743079)   |\n",
    "| Beyond Perfunctory         |   1           |      0.9     |     Added interactive ways for the students to be more engaged during the team teach with the jeopardy game where two sides had to press a button to answer a question and get extra credit for their side.         | \n",
    "| Total                      |   5           |    4.46       |              |"
   ]
  },
  {
   "cell_type": "markdown",
   "metadata": {},
   "source": [
    "| **Assignment**          | **Weightage** | **Grade** | **Comments** |\n",
    "|-------------------------|---------------|-----------|--------------|\n",
    "| College Board Coverage  | 20            | TBD       | TBD          |\n",
    "| Java Examples           | 30            | TBD       | TBD          |\n",
    "| Popcorn Hack Usage      | 10            | TBD       | TBD          |\n",
    "| Homework                | 10            | TBD       | TBD          |\n",
    "| Grading Plan            | 10            | TBD       | TBD          |\n",
    "| Original an Creative    | 10            | TBD       | TBD          |\n",
    "| Total                  | **90**        |           |              |"
   ]
  }
 ],
 "metadata": {
  "language_info": {
   "name": "python"
  }
 },
 "nbformat": 4,
 "nbformat_minor": 2
}
