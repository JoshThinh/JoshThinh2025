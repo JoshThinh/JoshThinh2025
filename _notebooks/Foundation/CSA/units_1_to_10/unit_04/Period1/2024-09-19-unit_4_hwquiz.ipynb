{
 "cells": [
  {
   "cell_type": "markdown",
   "metadata": {},
   "source": [
    "---\n",
    "layout: post\n",
    "type: collab\n",
    "title: Unit 4 - HW Quiz\n",
    "description: Unit 4 Team Teach HW QUIZ\n",
    "comments: true\n",
    "permalink: /csa/unit4-p1/unit4-hwquiz\n",
    "menu: nav/CSA_Units/csa_unit4_p1.html\n",
    "author: hanlun, saaras, arthur, miheer, eshaan, beijan\n",
    "---"
   ]
  },
  {
   "cell_type": "markdown",
   "metadata": {},
   "source": [
    "## Unit 4 - Iteration:\n",
    "- This is the homework quiz for unit 4, iterations\n",
    "- 4 multiple choice questions\n",
    "- 2 programming hacks\n",
    "- 1 bonus programming hack (required to get above 0.9)"
   ]
  },
  {
   "cell_type": "markdown",
   "metadata": {},
   "source": [
    "### Question 1:\n",
    "What does the following code print?   \n",
    "\n",
    "A. 5 6 7 8 9   \n",
    "\n",
    "B. 4 5 6 7 8 9 10 11 12   \n",
    "\n",
    "C. 3 5 7 9 11   \n",
    "\n",
    "D. 3 4 5 6 7 8 9 10 11 12   \n",
    "\n",
    "<details>\n",
    "<summary>Click to reveal answer:</summary> \n",
    "  D\n",
    "</details>\n",
    "\n",
    "Explain your answer. (explanation is graded not answer)"
   ]
  },
  {
   "cell_type": "markdown",
   "metadata": {},
   "source": [
    "Answer: D The interating variable of the for loop starts at 3 and increases by 1 until the variable is equal to 12. Each time the number increases, it is printed out to the terminal starting with the original number, 3. It will print every number from 3-12. Answer is D."
   ]
  },
  {
   "cell_type": "code",
   "execution_count": null,
   "metadata": {
    "vscode": {
     "languageId": "java"
    }
   },
   "outputs": [],
   "source": [
    "for (int i = 3; i <= 12; i++) {\n",
    "   System.out.print(i + \" \");\n",
    "}"
   ]
  },
  {
   "cell_type": "markdown",
   "metadata": {},
   "source": [
    "### Bonus:\n",
    "- Explain the difference between using a variable like i inside a for loop, vs. using a variable that exists in the code itself for a while loop"
   ]
  },
  {
   "cell_type": "markdown",
   "metadata": {},
   "source": [
    "In a for loop, the loop variable (such as i) is usually declared within the loop itself, is automatically managed, and only exists for the duration of the loop. In contrast, a while loop relies on a variable that is declared and updated outside of the loop, giving you more manual control and allowing the variable to persist after the loop has completed."
   ]
  },
  {
   "cell_type": "markdown",
   "metadata": {},
   "source": [
    "### Question 2:\n",
    "How many times does the following method print a \"*\" ?\n",
    "\n",
    "A. 9\n",
    "\n",
    "B. 7\n",
    "\n",
    "C. 8\n",
    "\n",
    "D. 6\n",
    "\n",
    "<details>\n",
    "<summary>Click to reveal answer:</summary> \n",
    "  C\n",
    "</details>\n",
    "\n",
    "Explain your answer. (explanation is graded not answer)"
   ]
  },
  {
   "cell_type": "code",
   "execution_count": null,
   "metadata": {
    "vscode": {
     "languageId": "java"
    }
   },
   "outputs": [],
   "source": [
    "for (int i = 3; i < 11; i++) {\n",
    "   System.out.print(\"*\");\n",
    "}"
   ]
  },
  {
   "cell_type": "markdown",
   "metadata": {},
   "source": [
    "Answer: C. The interating variable of the for loop starts at 3 and increases by 1 while the number is less than 11. Each time the number increases, an * is printed out to the terminal. Thus the * will be printed out 8 times because 11 - 3 = 8."
   ]
  },
  {
   "cell_type": "markdown",
   "metadata": {},
   "source": [
    "### Question 3:\n",
    "What does the following code print?\n",
    "\n",
    "A. -4 -3 -2 -1 0\n",
    "\n",
    "B. -5 -4 -3 -2 -1\n",
    "\n",
    "C. 5 4 3 2 1\n",
    "\n",
    "<details>\n",
    "<summary>Click to reveal answer:</summary> \n",
    "  A\n",
    "</details>\n",
    "\n",
    "Explain your answer. (explanation is graded not answer)"
   ]
  },
  {
   "cell_type": "markdown",
   "metadata": {},
   "source": [
    "Answer: A. The integer x=-5 is declared outside the while loop and the while loop only persists while the integer is less than 0. The integer is incremented before the print statement so -4 is the first number printed not -5. This will continue until x=0."
   ]
  },
  {
   "cell_type": "code",
   "execution_count": null,
   "metadata": {
    "vscode": {
     "languageId": "java"
    }
   },
   "outputs": [],
   "source": [
    "int x = -5;\n",
    "while (x < 0)\n",
    "{\n",
    "   x++;\n",
    "   System.out.print(x + \" \");\n",
    "}"
   ]
  },
  {
   "cell_type": "markdown",
   "metadata": {},
   "source": [
    "### Question 4:\n",
    "What does the following code print?\n",
    "\n",
    "A. 20\n",
    "\n",
    "B. 21\n",
    "\n",
    "C. 25\n",
    "\n",
    "D. 30\n",
    "\n",
    "<details>\n",
    "<summary>Click to reveal answer:</summary> \n",
    "  B\n",
    "</details>\n",
    "\n",
    "Explain your answer. (explanation is graded not answer)"
   ]
  },
  {
   "cell_type": "markdown",
   "metadata": {},
   "source": [
    "\n",
    "Answer: B. The iteration variable starts at 1 and increments by 1 each time the for loop runs, continuing until the variable equals 5. This means the loop will process the numbers 1, 2, 3, 4, and 5. According to the rule, if a number is even, it will be multiplied by 2 and added to the sum. For odd numbers, the original number is added to the sum without modification. Therefore, the sum is calculated as 1 + 3 + 5 + (2 x 2) + (4 x 2), since even numbers are doubled before being added. The final result of this expression is 21."
   ]
  },
  {
   "cell_type": "code",
   "execution_count": null,
   "metadata": {
    "vscode": {
     "languageId": "java"
    }
   },
   "outputs": [],
   "source": [
    "int sum = 0;\n",
    "\n",
    "for (int i = 1; i <= 5; i++) {\n",
    "    if (i % 2 == 0) {\n",
    "        sum += i * 2;\n",
    "    } else {\n",
    "        sum += i;\n",
    "    }\n",
    "}\n",
    "\n",
    "System.out.println(sum);"
   ]
  },
  {
   "cell_type": "markdown",
   "metadata": {},
   "source": [
    "## Loops HW Hack"
   ]
  },
  {
   "cell_type": "markdown",
   "metadata": {},
   "source": [
    "### Easy Hack\n",
    "- Use a while loop to find the numbers from 1-50 that are divisible by 3 or 5, then store them into a list (make sure to print it out at the end)\n",
    "- Use a for loop to do the same thing detailed above"
   ]
  },
  {
   "cell_type": "code",
   "execution_count": null,
   "metadata": {
    "vscode": {
     "languageId": "java"
    }
   },
   "outputs": [],
   "source": [
    "//Lists for numbers that are divisible by 5 and 3 respectively \n",
    "List<Integer> divisibleByThree = new ArrayList<>();\n",
    "List<Integer> divisibleByFive = new ArrayList<>();\n",
    "\n",
    "//Iterating Variable\n",
    "int x = 1;\n",
    "\n",
    "//while loop\n",
    "while (x <= 50) {\n",
    "    //Edge case for numbers divisble by both\n",
    "    if (x % 5 == 0 && x % 3 ==0) {\n",
    "        divisibleByThree.add(x);\n",
    "        divisibleByFive.add(x);\n",
    "    } else if (x % 5 == 0) {\n",
    "        divisibleByFive.add(x);\n",
    "    } else if (x % 3 ==0) {\n",
    "        divisibleByThree.add(x);\n",
    "    }\n",
    "    x++;\n",
    "}\n",
    "\n",
    "//Output\n",
    "System.out.println(\"Numbers divisble by 3 From 1-50:\" + divisibleByThree);\n",
    "System.out.println(\"Numbers divisble by 5 From 1-50: \" + divisibleByFive);"
   ]
  },
  {
   "cell_type": "markdown",
   "metadata": {},
   "source": [
    "### Harder Hack\n",
    "#### Palindromes are numbers that have the same value when reversed (ex: “123321” or “323”). Create a program that uses a while loop that outputs all palindromes in any given list. \n",
    "\n",
    "Sample Input: \n",
    "test_list = [5672, 235, 5537, 6032, 317, 8460, 1672, 8104, 7770, 4442, 913, 2508, 1116, 9969, 9091, 522, 8756, 9527, 7968, 1520, 4444, 515, 2882, 6556, 595]\n",
    "\n",
    "Sample Output:\n",
    "4444, 515, 2882, 6556, 595"
   ]
  },
  {
   "cell_type": "code",
   "execution_count": null,
   "metadata": {
    "vscode": {
     "languageId": "java"
    }
   },
   "outputs": [],
   "source": [
    "int[] test_list = {5672, 235, 5537, 6032, 317, 8460, 1672, 8104, 7770, 4442, 913, 2508, 1116, 9969, 9091, 522, 8756, 9527, 7968, 1520, 4444, 515, 2882, 6556, 595};\n",
    "\n",
    "for (int i = 0; i < test_list.length; i++) {\n",
    "    int number = test_list[i];\n",
    "    int original = number;\n",
    "    int reversed = 0;\n",
    "    \n",
    "    // Reverse the number\n",
    "    while (number != 0) {\n",
    "        int digit = number % 10;\n",
    "        reversed = reversed * 10 + digit;\n",
    "        number /= 10;\n",
    "    }\n",
    "    \n",
    "    // If the original number is the same as the reversed, print it\n",
    "    if (original == reversed) {\n",
    "        System.out.println(original);\n",
    "    }\n",
    "}"
   ]
  },
  {
   "cell_type": "markdown",
   "metadata": {},
   "source": [
    "## Bonus Hack (for above 0.9)\n",
    "### Use a for loop to output a spiral matrix with size n\n",
    "Example:\n",
    "\n",
    "Sample Input: n = 3\n",
    "\n",
    "Output: [[1, 2, 3], [8, 9, 4], [7, 6, 5]]"
   ]
  },
  {
   "cell_type": "code",
   "execution_count": null,
   "metadata": {
    "vscode": {
     "languageId": "java"
    }
   },
   "outputs": [],
   "source": [
    "import java.util.Arrays;\n",
    "\n",
    "public class SpiralMatrix {\n",
    "    public static void main(String[] args) {\n",
    "        int n=3;\n",
    "        int[][] matrix = generateSpiralMatrix(n);\n",
    "        printMatrix(matrix);\n",
    "    }\n",
    "\n",
    "    public static int[][] generateSpiralMatrix(int n) {\n",
    "        int[][] matrix = new int[n][n];\n",
    "        int num = 1;\n",
    "        int top = 0, bottom = n - 1;\n",
    "        int left = 0, right = n - 1;\n",
    "\n",
    "        while (top <= bottom && left <= right) {\n",
    "            for (int i = left; i <= right; i++) {\n",
    "                matrix[top][i] = num++;\n",
    "            }\n",
    "            top++;\n",
    "            for (int i = top; i <= bottom; i++) {\n",
    "                matrix[i][right] = num++;\n",
    "            }\n",
    "            right--;\n",
    "            for (int i = right; i >= left; i--) {\n",
    "                matrix[bottom][i] = num++;\n",
    "            }\n",
    "            bottom--;\n",
    "            for (int i = bottom; i >= top; i--) {\n",
    "                matrix[i][left] = num++;\n",
    "            }\n",
    "            left++;\n",
    "        }\n",
    "\n",
    "        return matrix;\n",
    "    }\n",
    "\n",
    "    public static void printMatrix(int[][] matrix) {\n",
    "        for (int[] row : matrix) {\n",
    "            System.out.println(Arrays.toString(row));\n",
    "        }\n",
    "    }\n",
    "}\n",
    "\n",
    "// Call the main method to execute the code\n",
    "SpiralMatrix.main(null);"
   ]
  }
 ],
 "metadata": {
  "kernelspec": {
   "display_name": "Java",
   "language": "java",
   "name": "java"
  },
  "language_info": {
   "codemirror_mode": "java",
   "file_extension": ".jshell",
   "mimetype": "text/x-java-source",
   "name": "Java",
   "pygments_lexer": "java",
   "version": "17.0.12+7-Ubuntu-1ubuntu222.04"
  }
 },
 "nbformat": 4,
 "nbformat_minor": 2
}
