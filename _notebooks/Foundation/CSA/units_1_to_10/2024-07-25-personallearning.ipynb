{
 "cells": [
  {
   "cell_type": "raw",
   "metadata": {
    "vscode": {
     "languageId": "raw"
    }
   },
   "source": [
    "---\n",
    "layout: post\n",
    "title: Personal Learning\n",
    "description: Josh\n",
    "menu: nav/CSA_Units/personallearning.html\n",
    "courses: {'csa': {'week': 7}}\n",
    "toc: true\n",
    "comments: true\n",
    "type: ccc\n",
    "permalink: /csa/personallearning/\n",
    "---"
   ]
  },
  {
   "cell_type": "code",
   "execution_count": 6,
   "metadata": {
    "vscode": {
     "languageId": "java"
    }
   },
   "outputs": [
    {
     "name": "stdout",
     "output_type": "stream",
     "text": [
      "Welcome to the Treasure Hunt Game!\n",
      "P . T . X \n",
      ". X . . . \n",
      "T . . X . \n",
      ". . . . T \n",
      "X . . T . \n",
      "Move (up, down, left, right): You moved to an empty space.\n",
      ". P T . X \n",
      ". X . . . \n",
      "T . . X . \n",
      ". . . . T \n",
      "X . . T . \n",
      "Move (up, down, left, right): You found a treasure! Total treasures collected: 1\n",
      ". . P . X \n",
      ". X . . . \n",
      "T . . X . \n",
      ". . . . T \n",
      "X . . T . \n",
      "Move (up, down, left, right): You moved to an empty space.\n",
      ". . . . X \n",
      ". X P . . \n",
      "T . . X . \n",
      ". . . . T \n",
      "X . . T . \n",
      "Move (up, down, left, right): You moved to an empty space.\n",
      ". . . . X \n",
      ". X . . . \n",
      "T . P X . \n",
      ". . . . T \n",
      "X . . T . \n",
      "Move (up, down, left, right): You moved to an empty space.\n",
      ". . . . X \n",
      ". X . . . \n",
      "T P . X . \n",
      ". . . . T \n",
      "X . . T . \n",
      "Move (up, down, left, right): You found a treasure! Total treasures collected: 2\n",
      ". . . . X \n",
      ". X . . . \n",
      "P . . X . \n",
      ". . . . T \n",
      "X . . T . \n",
      "Move (up, down, left, right): You moved to an empty space.\n",
      ". . . . X \n",
      ". X . . . \n",
      ". . . X . \n",
      "P . . . T \n",
      "X . . T . \n",
      "Move (up, down, left, right): You moved to an empty space.\n",
      ". . . . X \n",
      ". X . . . \n",
      ". . . X . \n",
      ". P . . T \n",
      "X . . T . \n",
      "Move (up, down, left, right): You moved to an empty space.\n",
      ". . . . X \n",
      ". X . . . \n",
      ". . . X . \n",
      ". . P . T \n",
      "X . . T . \n",
      "Move (up, down, left, right): You moved to an empty space.\n",
      ". . . . X \n",
      ". X . . . \n",
      ". . . X . \n",
      ". . . P T \n",
      "X . . T . \n",
      "Move (up, down, left, right): You found a treasure! Total treasures collected: 3\n",
      ". . . . X \n",
      ". X . . . \n",
      ". . . X . \n",
      ". . . . P \n",
      "X . . T . \n",
      "Move (up, down, left, right): You moved to an empty space.\n",
      ". . . . X \n",
      ". X . . . \n",
      ". . . X . \n",
      ". . . . . \n",
      "X . . T P \n",
      "Move (up, down, left, right): You found a treasure! Total treasures collected: 4\n",
      "Congratulations! You've found all the treasures!\n"
     ]
    }
   ],
   "source": [
    "import java.util.Random;\n",
    "import java.util.Scanner;\n",
    "\n",
    "class Player {\n",
    "    private int health;\n",
    "    private int treasuresCollected;\n",
    "\n",
    "    public Player() {\n",
    "        this.health = 100; // Player starts with 100 health\n",
    "        this.treasuresCollected = 0; // Player starts with 0 treasures\n",
    "    }\n",
    "\n",
    "    public int getHealth() {\n",
    "        return health;\n",
    "    }\n",
    "\n",
    "    public void takeDamage(int damage) {\n",
    "        this.health -= damage;\n",
    "        System.out.println(\"You took \" + damage + \" damage! Current health: \" + this.health);\n",
    "    }\n",
    "\n",
    "    public void collectTreasure() {\n",
    "        treasuresCollected++;\n",
    "        System.out.println(\"You found a treasure! Total treasures collected: \" + treasuresCollected);\n",
    "    }\n",
    "}\n",
    "\n",
    "class GameMap {\n",
    "    private char[][] map;\n",
    "    private int[] playerPosition;\n",
    "\n",
    "    public GameMap() {\n",
    "        map = new char[][] {\n",
    "            {'.', '.', 'T', '.', 'X'},\n",
    "            {'.', 'X', '.', '.', '.'},\n",
    "            {'T', '.', '.', 'X', '.'},\n",
    "            {'.', '.', '.', '.', 'T'},\n",
    "            {'X', '.', '.', 'T', '.'}\n",
    "        };\n",
    "        playerPosition = new int[] {0, 0}; // Starting position (row, col)\n",
    "    }\n",
    "\n",
    "    public void printMap() {\n",
    "        for (int row = 0; row < map.length; row++) {\n",
    "            for (int col = 0; col < map[row].length; col++) {\n",
    "                if (row == playerPosition[0] && col == playerPosition[1]) {\n",
    "                    System.out.print('P' + \" \"); // Player's position\n",
    "                } else {\n",
    "                    System.out.print(map[row][col] + \" \");\n",
    "                }\n",
    "            }\n",
    "            System.out.println();\n",
    "        }\n",
    "    }\n",
    "\n",
    "    public void movePlayer(String direction) {\n",
    "        int row = playerPosition[0];\n",
    "        int col = playerPosition[1];\n",
    "\n",
    "        switch (direction) {\n",
    "            case \"up\":\n",
    "                if (row > 0) playerPosition[0]--;\n",
    "                break;\n",
    "            case \"down\":\n",
    "                if (row < map.length - 1) playerPosition[0]++;\n",
    "                break;\n",
    "            case \"left\":\n",
    "                if (col > 0) playerPosition[1]--;\n",
    "                break;\n",
    "            case \"right\":\n",
    "                if (col < map[0].length - 1) playerPosition[1]++;\n",
    "                break;\n",
    "            default:\n",
    "                System.out.println(\"Invalid move!\");\n",
    "                break;\n",
    "        }\n",
    "    }\n",
    "\n",
    "    public char getTile() {\n",
    "        return map[playerPosition[0]][playerPosition[1]];\n",
    "    }\n",
    "\n",
    "    public boolean hasMoreTreasures() {\n",
    "        for (int row = 0; row < map.length; row++) {\n",
    "            for (int col = 0; col < map[row].length; col++) {\n",
    "                if (map[row][col] == 'T') return true;\n",
    "            }\n",
    "        }\n",
    "        return false;\n",
    "    }\n",
    "\n",
    "    public void removeTreasure() {\n",
    "        map[playerPosition[0]][playerPosition[1]] = '.'; // Remove treasure from the map\n",
    "    }\n",
    "}\n",
    "\n",
    "// Main game class\n",
    "public class TreasureHuntGame {\n",
    "    public static void main(String[] args) {\n",
    "        Player player = new Player();\n",
    "        GameMap gameMap = new GameMap();\n",
    "        Scanner scanner = new Scanner(System.in);\n",
    "        boolean gameRunning = true;\n",
    "\n",
    "        System.out.println(\"Welcome to the Treasure Hunt Game!\");\n",
    "\n",
    "        while (gameRunning && player.getHealth() > 0) {\n",
    "            gameMap.printMap();\n",
    "            System.out.print(\"Move (up, down, left, right): \");\n",
    "            String move = scanner.nextLine().toLowerCase();\n",
    "            gameMap.movePlayer(move);\n",
    "\n",
    "            char tile = gameMap.getTile();\n",
    "            switch (tile) {\n",
    "                case 'T': // Found a treasure\n",
    "                    player.collectTreasure();\n",
    "                    gameMap.removeTreasure(); // Remove treasure from the map\n",
    "                    break;\n",
    "                case 'X': // Encountered a trap\n",
    "                    player.takeDamage(20); // Trap inflicts 20 damage\n",
    "                    System.out.println(\"You fell into a trap!\");\n",
    "                    break;\n",
    "                default:\n",
    "                    System.out.println(\"You moved to an empty space.\");\n",
    "                    break;\n",
    "            }\n",
    "\n",
    "            // Check if player is still alive and if there are treasures left\n",
    "            if (player.getHealth() <= 0) {\n",
    "                System.out.println(\"You died. Game Over.\");\n",
    "                gameRunning = false;\n",
    "            } else if (!gameMap.hasMoreTreasures()) {\n",
    "                System.out.println(\"Congratulations! You've found all the treasures!\");\n",
    "                gameRunning = false;\n",
    "            }\n",
    "        }\n",
    "        scanner.close();\n",
    "    }\n",
    "}\n",
    "\n",
    "// Run the game\n",
    "TreasureHuntGame.main(null);\n"
   ]
  },
  {
   "cell_type": "markdown",
   "metadata": {},
   "source": [
    "![Screenshot 2024-10-11 113632](https://github.com/user-attachments/assets/b62502c1-f0f5-44ff-b9a0-26639dcfda28)"
   ]
  },
  {
   "cell_type": "markdown",
   "metadata": {},
   "source": [
    "Unit 6 - Arrays\n",
    "\n",
    "Code: The game utilizes a 2D array in the GameMap class to represent the game world. The array char[][] map defines the layout of the game, where different characters represent different types of tiles (e.g., '.' for empty spaces, 'T' for treasures, and 'X' for traps).\n",
    "This array structure is a direct application of 2D arrays, allowing for grid-like behavior where each position can be accessed by row and column indices."
   ]
  },
  {
   "cell_type": "code",
   "execution_count": null,
   "metadata": {
    "vscode": {
     "languageId": "java"
    }
   },
   "outputs": [],
   "source": [
    "private char[][] map = {\n",
    "    {'.', '.', 'T', '.', 'X'},\n",
    "    {'.', 'X', '.', '.', '.'},\n",
    "    {'T', '.', '.', 'X', '.'},\n",
    "    {'.', '.', '.', '.', 'T'},\n",
    "    {'X', '.', '.', 'T', '.'}\n",
    "};\n"
   ]
  },
  {
   "cell_type": "markdown",
   "metadata": {},
   "source": [
    "Unit 2 - Using Objects\n",
    "\n",
    "Code: The game implements object-oriented programming principles through the Player, GameMap, and TreasureHuntGame classes. Each class encapsulates related data and behaviors.\n",
    "Using classes allows for modular code design and reuse, making the game easier to manage and extend."
   ]
  },
  {
   "cell_type": "code",
   "execution_count": null,
   "metadata": {
    "vscode": {
     "languageId": "java"
    }
   },
   "outputs": [],
   "source": [
    "class Player {\n",
    "    private int health;\n",
    "    private int treasuresCollected;\n",
    "    // methods to manage player state\n",
    "}\n"
   ]
  },
  {
   "cell_type": "markdown",
   "metadata": {},
   "source": [
    "Unit 8 - 2D Arrays\n",
    "\n",
    "Code: The GameMap class uses a 2D array specifically to represent the game grid, where each cell can hold specific game elements.\n",
    "Example: The printMap() method iterates through the 2D array to display the current state of the game map.\n",
    "Correlation: This further reinforces understanding of 2D arrays as a way to store and manipulate grid-based data."
   ]
  },
  {
   "cell_type": "markdown",
   "metadata": {},
   "source": [
    "Unit 5 - Writing Classes\n",
    "\n",
    "Code: Classes are defined for the player and game map, illustrating how to write well-structured classes that encapsulate data and functionality.\n",
    "This emphasizes the importance of encapsulation and how to design classes that represent real-world entities (like a player or a game map)."
   ]
  },
  {
   "cell_type": "code",
   "execution_count": null,
   "metadata": {
    "vscode": {
     "languageId": "java"
    }
   },
   "outputs": [],
   "source": [
    "class GameMap {\n",
    "    public void movePlayer(String direction) {\n",
    "        // logic for moving player\n",
    "    }\n",
    "}"
   ]
  },
  {
   "cell_type": "markdown",
   "metadata": {},
   "source": [
    "Unit 7 - ArrayLists\n",
    "\n",
    "Code: While the current code does not explicitly use ArrayList, you could extend the game by storing the player's inventory (e.g., collected treasures) using an ArrayList instead of a simple integer.\n",
    "This concept can be incorporated if you expand the game to allow players to collect various types of treasures or manage items dynamically."
   ]
  },
  {
   "cell_type": "code",
   "execution_count": null,
   "metadata": {
    "vscode": {
     "languageId": "java"
    }
   },
   "outputs": [],
   "source": [
    "import java.util.ArrayList;\n",
    "// Player class could use ArrayList<String> to hold treasures\n",
    "private ArrayList<String> treasures;\n"
   ]
  },
  {
   "cell_type": "markdown",
   "metadata": {},
   "source": [
    "Unit 9 - Inheritance\n",
    "\n",
    "Code: You could enhance the game by creating a base class for different types of players or enemies, showing how inheritance can help model relationships and shared behavior.\n",
    "This demonstrates how inheritance can reduce code duplication and promote reusability."
   ]
  },
  {
   "cell_type": "code",
   "execution_count": null,
   "metadata": {
    "vscode": {
     "languageId": "java"
    }
   },
   "outputs": [],
   "source": [
    "class Enemy extends Player {\n",
    "    // Enemy-specific properties and methods\n",
    "}\n"
   ]
  },
  {
   "cell_type": "markdown",
   "metadata": {},
   "source": [
    "Unit 3 - Boolean Expressions and if Statements\n",
    "\n",
    "Code: The game logic includes several if statements to control the flow of the game based on player actions and game state (e.g., checking the tile type the player is on).\n",
    "This use of conditional logic is fundamental in controlling game mechanics based on player interactions.\n"
   ]
  },
  {
   "cell_type": "code",
   "execution_count": null,
   "metadata": {
    "vscode": {
     "languageId": "java"
    }
   },
   "outputs": [],
   "source": [
    "if (tile == 'T') {\n",
    "    player.collectTreasure();\n",
    "} else if (tile == 'X') {\n",
    "    player.takeDamage(20);\n",
    "}\n"
   ]
  },
  {
   "cell_type": "markdown",
   "metadata": {},
   "source": [
    "Unit 4 - Iteration\n",
    "\n",
    "Code: The game uses loops, particularly in the printMap() and game logic, to iterate through the map or to continue the game until a certain condition is met (e.g., the player’s health reaches zero).\n",
    "This highlights how iteration is used for tasks like displaying the game state or checking conditions repeatedly."
   ]
  },
  {
   "cell_type": "code",
   "execution_count": null,
   "metadata": {
    "vscode": {
     "languageId": "java"
    }
   },
   "outputs": [],
   "source": [
    "for (int row = 0; row < map.length; row++) {\n",
    "    for (int col = 0; col < map[row].length; col++) {\n",
    "        // printing the map\n",
    "    }\n",
    "}\n"
   ]
  }
 ],
 "metadata": {
  "kernelspec": {
   "display_name": "Java",
   "language": "java",
   "name": "java"
  },
  "language_info": {
   "codemirror_mode": "java",
   "file_extension": ".jshell",
   "mimetype": "text/x-java-source",
   "name": "Java",
   "pygments_lexer": "java",
   "version": "17.0.12+7-Ubuntu-1ubuntu222.04"
  }
 },
 "nbformat": 4,
 "nbformat_minor": 2
}
