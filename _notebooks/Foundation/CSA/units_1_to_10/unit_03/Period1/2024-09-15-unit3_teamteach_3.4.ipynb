{
 "cells": [
  {
   "cell_type": "raw",
   "metadata": {
    "vscode": {
     "languageId": "raw"
    }
   },
   "source": [
    "---\n",
    "layout: post\n",
    "title: Unit 3 Team Teach - 3.4\n",
    "description: Unit 3 Team Teach\n",
    "comments: true\n",
    "menu: nav/CSA_Units/csa_unit3_p1.html\n",
    "permalink: /csa/unit3-p1/unit3-4\n",
    "author: Alisha Hussain, Anika Bhatnagar, Kayden Le, Sharon Kodali\n",
    "---"
   ]
  },
  {
   "cell_type": "markdown",
   "metadata": {},
   "source": [
    "# 3.4 Else If Statements \n",
    "Else If Statements: Used when you have multiple conditions that need to be checked sequentially.\n",
    "\n",
    "Flow of Execution: Each condition is evaluated in the order written. The first true condition's code runs, and the rest are skipped.\n",
    "\n",
    "Structure:\n",
    "\n",
    "- Start with a single if statement.\n",
    "- Follow with as many else if statements as needed.\n",
    "- Optionally end with one else to handle any remaining cases.\n",
    "Key Concept: The order of conditions matters. More specific conditions should come before broader ones to ensure accurate results.\n",
    "\n",
    "<img width=\"734\" alt=\"image\" src=\"https://github.com/user-attachments/assets/d7864258-6f7a-4de1-a6f3-4905dd3eb503\">\n",
    "\n",
    "1. If I was 19 what would it print out? \n",
    "2. If I was 14 what would it print out? \n",
    "If I was 19, the probram would print \"You are old enough for a license to drive\"\n",
    "\n",
    "If I was 14 it would print \"You are 14.\"\n",
    "3. Create your if statement with one else if condition."
   ]
  },
  {
   "cell_type": "code",
   "execution_count": 1,
   "metadata": {
    "vscode": {
     "languageId": "java"
    }
   },
   "outputs": [
    {
     "name": "stdout",
     "output_type": "stream",
     "text": [
      "You are older than 10 but 20 or younger.\n"
     ]
    }
   ],
   "source": [
    "int myAge = 15;\n",
    "\n",
    "if (myAge > 20) {\n",
    "    System.out.println(\"You are older than 20.\");\n",
    "} else if (myAge > 10) {\n",
    "    System.out.println(\"You are older than 10 but 20 or younger.\");\n",
    "} else {\n",
    "    System.out.println(\"You are 10 or younger.\");\n",
    "}\n"
   ]
  }
 ],
 "metadata": {
  "kernelspec": {
   "display_name": "Java",
   "language": "java",
   "name": "java"
  },
  "language_info": {
   "codemirror_mode": "java",
   "file_extension": ".jshell",
   "mimetype": "text/x-java-source",
   "name": "Java",
   "pygments_lexer": "java",
   "version": "17.0.12+7-Ubuntu-1ubuntu222.04"
  }
 },
 "nbformat": 4,
 "nbformat_minor": 2
}
