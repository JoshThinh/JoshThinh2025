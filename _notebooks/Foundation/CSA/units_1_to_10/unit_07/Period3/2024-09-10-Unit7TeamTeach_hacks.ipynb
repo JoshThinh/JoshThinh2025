{
 "cells": [
  {
   "cell_type": "markdown",
   "metadata": {},
   "source": [
    "---\n",
    "layout: post\n",
    "toc: true\n",
    "title: Unit 7 ArrayList P3 \n",
    "description: A Unit of documents that overview Array Lists in Java\n",
    "authors: Drishya, Arnav, Tanuj, Jason\n",
    "categories: [AP CSA]\n",
    "# courses: {'csa': {'week': 6}}\n",
    "type: ccc\n",
    "permalink: /csa/unit7-p3/unit7-6\n",
    "menu: nav/CSA_Units/csa_unit7_p3.html\n",
    "---"
   ]
  },
  {
   "cell_type": "markdown",
   "metadata": {
    "vscode": {
     "languageId": "plaintext"
    }
   },
   "source": [
    "## **ArrayList Coding Activity**\n",
    "\n",
    "### **Objective:**\n",
    "Students will create, manipulate, and sort an `ArrayList` of integers.\n",
    "\n",
    "### **Activity Outline:**\n",
    "\n",
    "1. **Create an ArrayList:**\n",
    "   - **Task:** Create an `ArrayList` of integers and add 5 elements of your choice.\n",
    "   - **Hint:** Use the `ArrayList` class and the `.add()` method to add elements.\n",
    "\n",
    "2. **Modify an Element:**\n",
    "   - **Task:** Change the second element (index 1) of the `ArrayList` to a new value (e.g., 100).\n",
    "   - **Hint:** The `.set()` method allows you to update an element at a specific index.\n",
    "\n",
    "3. **Remove an Element:**\n",
    "   - **Task:** Remove the third element (index 2) from the `ArrayList`.\n",
    "   - **Hint:** Use the `.remove()` method to delete an element by its index.\n",
    "\n",
    "4. **Search for an Element:**\n",
    "   - **Task:** Check if a specific number (e.g., 30) is in the `ArrayList` and print a message based on whether it is found or not.\n",
    "   - **Hint:** The `.contains()` method can be used to check for the presence of an element.\n",
    "\n",
    "5. **Loop Through the ArrayList:**\n",
    "   - **Task:** Use a `for` loop to print each element of the `ArrayList`.\n",
    "   - **Hint:** You can use a traditional `for` loop or an enhanced `for` loop (`for-each`) to iterate through the elements.\n",
    "\n",
    "6. **Sort the ArrayList:**\n",
    "   - **Task:** Sort the `ArrayList` in ascending order.\n",
    "   - **Hint:** Use `Collections.sort()` to sort the `ArrayList`.\n",
    "\n",
    "7. **Print the Sorted ArrayList:**\n",
    "   - **Task:** Print the sorted `ArrayList` to see the updated order of the elements.\n",
    "   - **Hint:** Use `System.out.println()` to print the sorted list.\n"
   ]
  },
  {
   "cell_type": "code",
   "execution_count": 17,
   "metadata": {},
   "outputs": [
    {
     "name": "stdout",
     "output_type": "stream",
     "text": [
      "[20, 29, 13, 11, 99]\n",
      "[20, 29, 13, 100, 99]\n",
      "[29, 13, 100, 99]\n",
      "29 is in the list and is my favorite number\n",
      "40 is not in the list.\n",
      "ArrayList elements:\n",
      "29\n",
      "13\n",
      "100\n",
      "99\n",
      "Sorted ArrayList:\n",
      "[13, 29, 99, 100]\n"
     ]
    }
   ],
   "source": [
    "import java.util.ArrayList;\n",
    "import java.util.Collections;\n",
    "\n",
    "public class ArrayListActivity {\n",
    "\n",
    "    public static void main(String[] args) {\n",
    "        // 1. Create an ArrayList and add 5 elements\n",
    "        ArrayList<Integer> numbers = new ArrayList<>();\n",
    "        numbers.add(20);\n",
    "        numbers.add(29);\n",
    "        numbers.add(13);\n",
    "        numbers.add(11);\n",
    "        numbers.add(99);\n",
    "        System.out.println(numbers);\n",
    "        // 2. Modify the second element (index 1) to 100\n",
    "        numbers.set(3, 100);\n",
    "        System.out.println(numbers);\n",
    "        // 3. Remove the third element (index 2)\n",
    "        numbers.remove(0);\n",
    "        System.out.println(numbers);\n",
    "        // 4. Search for the number 30 and print if found or not\n",
    "        if (numbers.contains(29)) {\n",
    "            System.out.println(\"29 is in the list and is my favorite number\");\n",
    "        } else {\n",
    "            System.out.println(\"29 is not in the list.\");\n",
    "        }\n",
    "        if (numbers.contains(40)) {\n",
    "            System.out.println(\"40 is in the list. What a random number\");\n",
    "        } else {\n",
    "            System.out.println(\"40 is not in the list.\");\n",
    "        }\n",
    "        // 5. Loop through the ArrayList and print each element\n",
    "        System.out.println(\"ArrayList elements:\");\n",
    "        for (int number : numbers) {\n",
    "            System.out.println(number);\n",
    "        }\n",
    "\n",
    "        // 6. Sort the ArrayList in ascending order\n",
    "        Collections.sort(numbers);\n",
    "\n",
    "        // 7. Print the sorted ArrayList\n",
    "        System.out.println(\"Sorted ArrayList:\");\n",
    "        System.out.println(numbers);\n",
    "    }\n",
    "}\n",
    "ArrayListActivity.main(null)"
   ]
  }
 ],
 "metadata": {
  "kernelspec": {
   "display_name": "Java",
   "language": "java",
   "name": "java"
  },
  "language_info": {
   "codemirror_mode": "java",
   "file_extension": ".jshell",
   "mimetype": "text/x-java-source",
   "name": "java",
   "pygments_lexer": "java",
   "version": "17.0.12+7-Ubuntu-1ubuntu222.04"
  }
 },
 "nbformat": 4,
 "nbformat_minor": 2
}
