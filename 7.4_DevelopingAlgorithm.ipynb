{
 "cells": [
  {
   "cell_type": "markdown",
   "metadata": {},
   "source": [
    "3. A high school club maintains information about its members in a MemberInfo object. A\n",
    "MemberInfo object stores a club member's name, year of graduation, and whether or not the club\n",
    "member is in good standing. A member who is in good standing has fulfilled all the responsibilities of club\n",
    "membership.\n",
    "\n",
    "A partial declaration of the MemberInfo class is shown below.\n",
    "\n"
   ]
  },
  {
   "cell_type": "code",
   "execution_count": null,
   "metadata": {
    "vscode": {
     "languageId": "java"
    }
   },
   "outputs": [],
   "source": [
    "public class MemberInfo\n",
    "{\n",
    "/** Constructs a MemberInfo object for the club member with name name,\n",
    "* graduation year gradYear, and standing hasGoodStanding.\n",
    "*/\n",
    "public MemberInfo (String name, int gradYear, boolean hasGoodStanding)\n",
    "{ /* implementation not shown */ }\n",
    "\n",
    "/ ** Returns the graduation year of the club member. */\n",
    "public int getGradYear ()\n",
    "{ /* implementation not shown */ }\n",
    "\n",
    "/ ** Returns true if the member is in good standing and false otherwise. */\n",
    "public boolean inGoodStanding()\n",
    "{ /* implementation not shown */ }\n",
    "\n",
    "// There may be instance variables, constructors, and methods that are not shown.\n",
    "\n",
    "}\n",
    "\n",
    "The ClubMembers class maintains a list of current club members. The declaration of the\n",
    "ClubMembers class is shown below.\n",
    "\n",
    "public class ClubMembers\n",
    "{\n",
    "\n",
    "*\n",
    "\n",
    "private ArrayList<MemberInfo> memberList;\n",
    "\n",
    "/** Adds new club members to memberList, as described in part (a).\n",
    "Precondition: names is a non-empty array. **/\n",
    "}\n",
    "\n",
    "public void addMembers (String[] names, int gradYear)\n",
    "{ /* to be implemented in part (a) */ }\n",
    "\n",
    "/** Removes members who have graduated and returns a list of members who have graduated\n",
    "* and are in good standing, as described in part (b).\n",
    "*/\n",
    "public ArrayList<MemberInfo> removeMembers (int year)\n",
    "{ /* to be implemented in part (b) */ }\n",
    "\n",
    "// There may be instance variables, constructors, and methods that are not shown.\n",
    "\n"
   ]
  },
  {
   "cell_type": "markdown",
   "metadata": {},
   "source": [
    "## Penalties:\n",
    "### 1. Array/Collection Access Confusion\n",
    "Make sure is use [] for arrays and .get(index) for ArrayList."
   ]
  },
  {
   "cell_type": "code",
   "execution_count": null,
   "metadata": {
    "vscode": {
     "languageId": "java"
    }
   },
   "outputs": [],
   "source": [
    "int[] arr = {1, 2, 3};\n",
    "System.out.println(arr[0]); // Correct for arrays\n",
    "\n",
    "ArrayList<Integer> list = new ArrayList<>();\n",
    "list.add(10);\n",
    "System.out.println(list.get(0)); // Correct for ArrayLists\n"
   ]
  },
  {
   "cell_type": "markdown",
   "metadata": {},
   "source": [
    "### 2. Extraneous Code:\n",
    "- Avoid unnecessary code that doesn't align with the problem's requirements\n",
    "- This would include unnecessary pringting or extra logic\n",
    "\n",
    "### 3. Local variables used but not declared\n",
    "- always declare local variables before using them"
   ]
  },
  {
   "cell_type": "code",
   "execution_count": null,
   "metadata": {
    "vscode": {
     "languageId": "java"
    }
   },
   "outputs": [],
   "source": [
    "int total = 0; // Declare the variable first\n",
    "total += 5;    // Use it after declaration\n"
   ]
  },
  {
   "cell_type": "markdown",
   "metadata": {},
   "source": [
    "### 4. Destruction of Persistent data\n",
    "- Don't unintentionally modify objects passed as parameters unless explicitly asked.\n",
    "\n",
    "### 5. Void method returning\n",
    "- Methods declared void cannot return a value.\n",
    "return type specified in the method signature"
   ]
  },
  {
   "cell_type": "markdown",
   "metadata": {},
   "source": [
    "## Free Points\n",
    "### 1. Declare class header\n",
    "- always begin with a correct class declaration:"
   ]
  },
  {
   "cell_type": "code",
   "execution_count": null,
   "metadata": {
    "vscode": {
     "languageId": "java"
    }
   },
   "outputs": [],
   "source": [
    "public class ClubMembers {\n",
    "    // Class content here\n",
    "}"
   ]
  },
  {
   "cell_type": "markdown",
   "metadata": {},
   "source": [
    "### 2. Declare variables\n",
    "- Ensure to identitfy and declare the necessary instance variables\n",
    "- The problem above specifies that  the memberList as an ArrayList of MemberInfo objects:"
   ]
  },
  {
   "cell_type": "code",
   "execution_count": null,
   "metadata": {
    "vscode": {
     "languageId": "java"
    }
   },
   "outputs": [],
   "source": [
    "private ArrayList<MemberInfo> memberList;"
   ]
  },
  {
   "cell_type": "markdown",
   "metadata": {},
   "source": [
    "### 3. Constructor\n",
    "- Ensure that ClubMembers constructor initializes memberList:"
   ]
  },
  {
   "cell_type": "code",
   "execution_count": null,
   "metadata": {
    "vscode": {
     "languageId": "java"
    }
   },
   "outputs": [],
   "source": [
    "public ClubMembers() {\n",
    "    memberList = new ArrayList<>();\n",
    "}\n"
   ]
  },
  {
   "cell_type": "markdown",
   "metadata": {},
   "source": [
    "### 4. length/size confusion for array\n",
    "- length/size confusion for array, String, List, or ArrayList with or without () Extraneous [] when referencing entire array"
   ]
  },
  {
   "cell_type": "markdown",
   "metadata": {},
   "source": [
    "## Part A\n",
    " Write the ClubMembers method addMembers, which takes two parameters. The first parameter is\n",
    "a String array containing the names of new club members to be added. The second parameter is the\n",
    "graduation year of all the new club members. The method adds the new members to the memberList\n",
    "instance variable. The names can be added in any order. All members added are initially in good\n",
    "standing and share the same graduation year, gradYear. <br>\n",
    "\n",
    "Complete the addMembers method.\n",
    "\n",
    "* Adds new club members to memberList, as described in part (a). <br>\n",
    "* Precondition: names is a non-empty array. <br>\n",
    "* public void addMembers (String[] names, int gradYear)"
   ]
  },
  {
   "cell_type": "markdown",
   "metadata": {},
   "source": [
    "## Helpful Acronym\n",
    "#### P.L.A.N\n",
    "1. P: Parameter and Return Type\n",
    "2. L: Loop Through Data\n",
    "3. A: Apply Logic\n",
    "4. N: New/Updated Array or list"
   ]
  },
  {
   "cell_type": "markdown",
   "metadata": {},
   "source": [
    "## Step 1: Declare Method Header:\n",
    "- The question specifies the method name, parameter types, and return type\n"
   ]
  },
  {
   "cell_type": "code",
   "execution_count": null,
   "metadata": {
    "vscode": {
     "languageId": "java"
    }
   },
   "outputs": [],
   "source": [
    "public void addMembers(String[] names, int gradYear) {\n",
    "    // Method implementation\n",
    "}"
   ]
  },
  {
   "cell_type": "markdown",
   "metadata": {},
   "source": [
    "## Step 2: Iterate Through the Array:\n",
    "- Must iterate through the array"
   ]
  },
  {
   "cell_type": "code",
   "execution_count": null,
   "metadata": {
    "vscode": {
     "languageId": "java"
    }
   },
   "outputs": [],
   "source": [
    "for (String name : names) {\n",
    "    // Process each name\n",
    "}"
   ]
  },
  {
   "cell_type": "markdown",
   "metadata": {},
   "source": [
    "Losing points:\n",
    "- Points will be lost of they fail to access elements of the array even if the loop bounds are correct."
   ]
  },
  {
   "cell_type": "markdown",
   "metadata": {},
   "source": [
    "## 3. Create and add objects:\n",
    "- For each name a new MemberInfo object should be created\n",
    "- It should then be added to memberList. \n",
    "The MemberInfo constructor takes three arguements:\n",
    " - Name(String)\n",
    " - Graduation year(int)\n",
    " - Good standing(boolean, should default to true)"
   ]
  },
  {
   "cell_type": "code",
   "execution_count": null,
   "metadata": {
    "vscode": {
     "languageId": "java"
    }
   },
   "outputs": [],
   "source": [
    "MemberInfo newMember = new MemberInfo(name, gradYear, true);"
   ]
  },
  {
   "cell_type": "markdown",
   "metadata": {},
   "source": [
    "## 4. Complete the Method\n",
    "- MemberInfo objects adds to memberList\n",
    "- You can still earn points even if instantiate MemberInfo objects incorrectly"
   ]
  },
  {
   "cell_type": "code",
   "execution_count": null,
   "metadata": {
    "vscode": {
     "languageId": "java"
    }
   },
   "outputs": [],
   "source": [
    "memberList.add(newMember);"
   ]
  },
  {
   "cell_type": "markdown",
   "metadata": {},
   "source": [
    "## CollegeBoard Solution"
   ]
  },
  {
   "cell_type": "code",
   "execution_count": null,
   "metadata": {
    "vscode": {
     "languageId": "java"
    }
   },
   "outputs": [],
   "source": [
    "public void addMembers(String[] names, int gradYear)\n",
    "{\n",
    "    for (String n : names)\n",
    "    {\n",
    "        MemberInfo newMember = new MemberInfo(names, gradYear, true);\n",
    "        memberList.add(newMember);\n",
    "    }\n",
    "}\n"
   ]
  }
 ],
 "metadata": {
  "language_info": {
   "name": "python"
  }
 },
 "nbformat": 4,
 "nbformat_minor": 2
}
